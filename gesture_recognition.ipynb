{
 "cells": [
  {
   "cell_type": "markdown",
   "metadata": {},
   "source": [
    "# Gesture Recognition\n",
    "In this group project, you are going to build a 3D Conv model that will be able to predict the 5 gestures correctly. Please import the following libraries to get started."
   ]
  },
  {
   "cell_type": "code",
   "execution_count": 1,
   "metadata": {},
   "outputs": [],
   "source": [
    "import numpy as np\n",
    "import os\n",
    "import matplotlib.pyplot as plt\n",
    "from matplotlib.pyplot import imread\n",
    "from skimage.transform import resize\n",
    "from skimage.io import imread\n",
    "#from scipy.misc import imread, imresize\n",
    "import datetime\n",
    "import os"
   ]
  },
  {
   "cell_type": "markdown",
   "metadata": {},
   "source": [
    "We set the random seed so that the results don't vary drastically."
   ]
  },
  {
   "cell_type": "code",
   "execution_count": 2,
   "metadata": {},
   "outputs": [],
   "source": [
    "np.random.seed(30)\n",
    "import random as rn\n",
    "rn.seed(30)\n",
    "from keras import backend as K\n",
    "import tensorflow as tf\n",
    "tf.random.set_seed(30)"
   ]
  },
  {
   "cell_type": "markdown",
   "metadata": {},
   "source": [
    "In this block, you read the folder names for training and validation. You also set the batch_size here. Note that you set the batch size in such a way that you are able to use the GPU in full capacity. You keep increasing the batch size until the machine throws an error."
   ]
  },
  {
   "cell_type": "code",
   "execution_count": 3,
   "metadata": {},
   "outputs": [],
   "source": [
    "train_doc = np.random.permutation(open('data/train.csv').readlines())\n",
    "val_doc = np.random.permutation(open('data/val.csv').readlines())\n",
    "batch_size = 32"
   ]
  },
  {
   "cell_type": "markdown",
   "metadata": {},
   "source": [
    "## Generator\n",
    "This is one of the most important part of the code. The overall structure of the generator has been given. In the generator, you are going to preprocess the images as you have images of 2 different dimensions as well as create a batch of video frames. You have to experiment with `img_idx`, `y`,`z` and normalization such that you get high accuracy."
   ]
  },
  {
   "cell_type": "code",
   "execution_count": 84,
   "metadata": {},
   "outputs": [],
   "source": [
    "def generator(source_path, folder_list, batch_size):\n",
    "    #print('source_path: ', source_path)\n",
    "    \n",
    "    img_idx = [2,4,6,8,10,12,14,16,18,20,22,24,26,28] #create a list of image numbers you want to use for a particular video\n",
    "\n",
    "    while True:\n",
    "        t = np.random.permutation(folder_list)\n",
    "        \n",
    "        num_batches = len(t)//batch_size # calculate the number of batches\n",
    "        for batch in range(num_batches): # we iterate over the number of batches\n",
    "            \n",
    "            batch_data = np.zeros((batch_size,14,100,100,3)) # x is the number of images you use for each video, (y,z) is the final size of the input images and 3 is the number of channels RGB\n",
    "            \n",
    "            batch_labels = np.zeros((batch_size,5)) # batch_labels is the one hot representation of the output\n",
    "           # print(\"batch labels: \", batch_labels)\n",
    "            for folder in range(batch_size): # iterate over the batch_size\n",
    "                \n",
    "                imgs = os.listdir(source_path+'/'+ t[folder + (batch*batch_size)].split(';')[0]) # read all the images in the folder\n",
    "                \n",
    "                for idx,item in enumerate(img_idx): #  Iterate iver the frames/images of a folder to read them in\n",
    "                    image = imread(source_path+'/'+ t[folder + (batch*batch_size)].strip().split(';')[0]+'/'+imgs[item]).astype(np.float32)\n",
    "                    \n",
    "                    #crop the images and resize them. Note that the images are of 2 different shape \n",
    "                    image = resize(image,(100,100)).astype(np.float32)\n",
    "                 \n",
    "                    \n",
    "                    #and the conv3D will throw error if the inputs in a batch have different shapes\n",
    "                    \n",
    "                    batch_data[folder,idx,:,:,0] = (image[:,:,0])/255 #normalise and feed in the image\n",
    "                    batch_data[folder,idx,:,:,1] = (image[:,:,1])/255 #normalise and feed in the image\n",
    "                    batch_data[folder,idx,:,:,2] = (image[:,:,2])/255 #normalise and feed in the image\n",
    "                    \n",
    "                batch_labels[folder, int(t[folder + (batch*batch_size)].strip().split(';')[2])] = 1\n",
    "            yield batch_data, batch_labels #you yield the batch_data and the batch_labels, remember what does yield do\n",
    "\n",
    "        \n",
    "        # write the code for the remaining data points which are left after full batches\n",
    "        \n",
    "        if len(t)% batch_size !=0:\n",
    "            batch_data = np.zeros((batch_size,14,100,100,3))\n",
    "            batch_labels = np.zeros((batch_size,5))\n",
    "            for folder in range(batch_size): # iterate over the batch_size\n",
    "                    \n",
    "                    imgs = os.listdir(source_path+'/'+ t[folder + (batch*batch_size)].split(';')[0]) # read all the images in the folder\n",
    "                    \n",
    "                    for idx,item in enumerate(img_idx): #  Iterate iver the frames/images of a folder to read them in\n",
    "                        image = imread(source_path+'/'+ t[folder + (batch*batch_size)].strip().split(';')[0]+'/'+imgs[item]).astype(np.float32)\n",
    "                        #crop the images and resize them. Note that the images are of 2 different shape \n",
    "                        image = resize(image,(100,100)).astype(np.float32)\n",
    "\n",
    "                        batch_data[folder,idx,:,:,0] = (image[:,:,0])/255 #normalise and feed in the image\n",
    "                        batch_data[folder,idx,:,:,1] = (image[:,:,1])/255 #normalise and feed in the image\n",
    "                        batch_data[folder,idx,:,:,2] = (image[:,:,2])/255 #normalise and feed in the image\n",
    "\n",
    "                    batch_labels[folder, int(t[folder + (batch*batch_size)].strip().split(';')[2])] = 1\n",
    "            yield batch_data, batch_labels #you yield the batch_data and the batch_labels, remember what does yield do\n",
    "\n"
   ]
  },
  {
   "cell_type": "markdown",
   "metadata": {},
   "source": [
    "Note here that a video is represented above in the generator as (number of images, height, width, number of channels). Take this into consideration while creating the model architecture."
   ]
  },
  {
   "cell_type": "code",
   "execution_count": 5,
   "metadata": {},
   "outputs": [
    {
     "name": "stdout",
     "output_type": "stream",
     "text": [
      "# training sequences = 663\n",
      "# validation sequences = 100\n",
      "# epochs = 15\n"
     ]
    }
   ],
   "source": [
    "curr_dt_time = datetime.datetime.now()\n",
    "train_path = 'data/train'\n",
    "val_path = 'data/val'\n",
    "num_train_sequences = len(train_doc)\n",
    "print('# training sequences =', num_train_sequences)\n",
    "num_val_sequences = len(val_doc)\n",
    "print('# validation sequences =', num_val_sequences)\n",
    "num_epochs = 15 # choose the number of epochs\n",
    "print ('# epochs =', num_epochs)"
   ]
  },
  {
   "cell_type": "markdown",
   "metadata": {},
   "source": [
    "## Model 1 - Conv3D\n",
    "Here you make the model using different functionalities that Keras provides. Remember to use Conv3D and MaxPooling3D and not Conv2D and Maxpooling2D for a 3D convolution model. You would want to use TimeDistributed while building a Conv2D + RNN model. Also remember that the last layer is the softmax. Design the network in such a way that the model is able to give good accuracy on the least number of parameters so that it can fit in the memory of the webcam."
   ]
  },
  {
   "cell_type": "code",
   "execution_count": 7,
   "metadata": {},
   "outputs": [
    {
     "name": "stdout",
     "output_type": "stream",
     "text": [
      "Model: \"sequential_1\"\n",
      "_________________________________________________________________\n",
      " Layer (type)                Output Shape              Param #   \n",
      "=================================================================\n",
      " conv3d_3 (Conv3D)           (None, 14, 100, 100, 32)  2624      \n",
      "                                                                 \n",
      " activation_3 (Activation)   (None, 14, 100, 100, 32)  0         \n",
      "                                                                 \n",
      " batch_normalization_5 (Batc  (None, 14, 100, 100, 32)  128      \n",
      " hNormalization)                                                 \n",
      "                                                                 \n",
      " max_pooling3d_3 (MaxPooling  (None, 7, 50, 50, 32)    0         \n",
      " 3D)                                                             \n",
      "                                                                 \n",
      " conv3d_4 (Conv3D)           (None, 7, 50, 50, 64)     16448     \n",
      "                                                                 \n",
      " activation_4 (Activation)   (None, 7, 50, 50, 64)     0         \n",
      "                                                                 \n",
      " batch_normalization_6 (Batc  (None, 7, 50, 50, 64)    256       \n",
      " hNormalization)                                                 \n",
      "                                                                 \n",
      " max_pooling3d_4 (MaxPooling  (None, 3, 25, 25, 64)    0         \n",
      " 3D)                                                             \n",
      "                                                                 \n",
      " conv3d_5 (Conv3D)           (None, 3, 25, 25, 128)    65664     \n",
      "                                                                 \n",
      " activation_5 (Activation)   (None, 3, 25, 25, 128)    0         \n",
      "                                                                 \n",
      " batch_normalization_7 (Batc  (None, 3, 25, 25, 128)   512       \n",
      " hNormalization)                                                 \n",
      "                                                                 \n",
      " max_pooling3d_5 (MaxPooling  (None, 1, 12, 12, 128)   0         \n",
      " 3D)                                                             \n",
      "                                                                 \n",
      " flatten_1 (Flatten)         (None, 18432)             0         \n",
      "                                                                 \n",
      " dense_3 (Dense)             (None, 128)               2359424   \n",
      "                                                                 \n",
      " batch_normalization_8 (Batc  (None, 128)              512       \n",
      " hNormalization)                                                 \n",
      "                                                                 \n",
      " dropout_2 (Dropout)         (None, 128)               0         \n",
      "                                                                 \n",
      " dense_4 (Dense)             (None, 64)                8256      \n",
      "                                                                 \n",
      " batch_normalization_9 (Batc  (None, 64)               256       \n",
      " hNormalization)                                                 \n",
      "                                                                 \n",
      " dropout_3 (Dropout)         (None, 64)                0         \n",
      "                                                                 \n",
      " dense_5 (Dense)             (None, 5)                 325       \n",
      "                                                                 \n",
      "=================================================================\n",
      "Total params: 2,454,405\n",
      "Trainable params: 2,453,573\n",
      "Non-trainable params: 832\n",
      "_________________________________________________________________\n"
     ]
    }
   ],
   "source": [
    "from keras.models import Sequential, Model\n",
    "from keras.layers import Dense, GRU, Flatten, TimeDistributed, ConvLSTM2D, Flatten, BatchNormalization, Activation, Dropout, LSTM, Bidirectional\n",
    "from keras.layers.convolutional import Conv3D, MaxPooling3D\n",
    "from keras.callbacks import ModelCheckpoint, ReduceLROnPlateau\n",
    "from keras import optimizers\n",
    "from keras.models import Sequential, Model\n",
    "from keras.layers import Dense, GRU, Flatten, TimeDistributed, Flatten, BatchNormalization, Activation, Dropout, LSTM, Bidirectional\n",
    "from keras.layers.convolutional import Conv2D, Conv3D, MaxPooling3D\n",
    "from keras.callbacks import ModelCheckpoint, ReduceLROnPlateau\n",
    "from keras import optimizers\n",
    "\n",
    "#write your model here\n",
    "\n",
    "\n",
    "model = Sequential()\n",
    "model.add(Conv3D(32, (3, 3, 3), padding='same', input_shape=(14,100,100,3)))\n",
    "model.add(Activation('relu'))\n",
    "model.add(BatchNormalization())\n",
    "model.add(MaxPooling3D(pool_size=(2, 2, 2)))\n",
    "\n",
    "\n",
    "model.add(Conv3D(64, (2, 2, 2), padding='same'))\n",
    "model.add(Activation('relu'))\n",
    "model.add(BatchNormalization())\n",
    "model.add(MaxPooling3D(pool_size=(2, 2, 2)))\n",
    "\n",
    "model.add(Conv3D(128, (2, 2, 2), padding='same'))\n",
    "model.add(Activation('relu'))\n",
    "model.add(BatchNormalization())\n",
    "model.add(MaxPooling3D(pool_size=(2, 2, 2)))\n",
    "\n",
    "model.add(Flatten())\n",
    "model.add(Dense(128,activation='relu'))\n",
    "model.add(BatchNormalization())\n",
    "model.add(Dropout(0.5))\n",
    "\n",
    "model.add(Dense(64,activation='relu'))\n",
    "model.add(BatchNormalization())\n",
    "model.add(Dropout(0.25))\n",
    "\n",
    "model.add(Dense(5,activation='softmax'))\n",
    "\n",
    "model.summary()"
   ]
  },
  {
   "cell_type": "markdown",
   "metadata": {},
   "source": [
    "Now that you have written the model, the next step is to compile the model. When you print the summary of the model, you'll see the total number of parameters you have to train."
   ]
  },
  {
   "cell_type": "code",
   "execution_count": 8,
   "metadata": {},
   "outputs": [
    {
     "name": "stderr",
     "output_type": "stream",
     "text": [
      "/Users/dhruvchopra/opt/anaconda3/lib/python3.8/site-packages/keras/optimizers/optimizer_v2/gradient_descent.py:108: UserWarning: The `lr` argument is deprecated, use `learning_rate` instead.\n",
      "  super(SGD, self).__init__(name, **kwargs)\n"
     ]
    }
   ],
   "source": [
    "optimizer = optimizers.SGD(lr=0.001) #write your optimizer\n",
    "model.compile(optimizer=optimizer, loss='categorical_crossentropy', metrics=['categorical_accuracy'])"
   ]
  },
  {
   "cell_type": "code",
   "execution_count": 9,
   "metadata": {},
   "outputs": [],
   "source": [
    "train_generator = generator(train_path, train_doc, batch_size)\n",
    "val_generator = generator(val_path, val_doc, batch_size)"
   ]
  },
  {
   "cell_type": "code",
   "execution_count": 10,
   "metadata": {},
   "outputs": [
    {
     "name": "stdout",
     "output_type": "stream",
     "text": [
      "WARNING:tensorflow:`period` argument is deprecated. Please use `save_freq` to specify the frequency in number of batches seen.\n",
      "WARNING:tensorflow:`epsilon` argument is deprecated and will be removed, use `min_delta` instead.\n"
     ]
    }
   ],
   "source": [
    "model_name = 'model_init' + '_' + str(curr_dt_time).replace(' ','').replace(':','_') + '/'\n",
    "    \n",
    "if not os.path.exists(model_name):\n",
    "    os.mkdir(model_name)\n",
    "        \n",
    "filepath = model_name + 'model-{epoch:05d}-{loss:.5f}-{categorical_accuracy:.5f}-{val_loss:.5f}-{val_categorical_accuracy:.5f}.h5'\n",
    "\n",
    "checkpoint = ModelCheckpoint(filepath, monitor='val_loss', verbose=1, save_best_only=False, save_weights_only=False, mode='auto', period=1)\n",
    "\n",
    "LR = ReduceLROnPlateau(monitor = \"val_loss\", factor = 0.2, patience = 4,\n",
    "  verbose = 1, mode = \"auto\", epsilon = 1e-04, cooldown = 0,min_lr = 0)\n",
    "callbacks_list = [checkpoint, LR]"
   ]
  },
  {
   "cell_type": "code",
   "execution_count": 11,
   "metadata": {},
   "outputs": [],
   "source": [
    "if (num_train_sequences%batch_size) == 0:\n",
    "    steps_per_epoch = int(num_train_sequences/batch_size)\n",
    "else:\n",
    "    steps_per_epoch = (num_train_sequences//batch_size) + 1\n",
    "\n",
    "if (num_val_sequences%batch_size) == 0:\n",
    "    validation_steps = int(num_val_sequences/batch_size)\n",
    "else:\n",
    "    validation_steps = (num_val_sequences//batch_size) + 1"
   ]
  },
  {
   "cell_type": "code",
   "execution_count": 12,
   "metadata": {
    "scrolled": false
   },
   "outputs": [
    {
     "name": "stderr",
     "output_type": "stream",
     "text": [
      "<ipython-input-12-bd77c9c60c14>:1: UserWarning: `Model.fit_generator` is deprecated and will be removed in a future version. Please use `Model.fit`, which supports generators.\n",
      "  model.fit_generator(train_generator, steps_per_epoch=steps_per_epoch, epochs=num_epochs, verbose=1,\n"
     ]
    },
    {
     "name": "stdout",
     "output_type": "stream",
     "text": [
      "Epoch 1/15\n",
      "21/21 [==============================] - ETA: 0s - loss: 2.0272 - categorical_accuracy: 0.2872 \n",
      "Epoch 1: saving model to model_init_2022-09-1321_06_47.833538/model-00001-2.02716-0.28720-1.61797-0.22656.h5\n",
      "21/21 [==============================] - 463s 22s/step - loss: 2.0272 - categorical_accuracy: 0.2872 - val_loss: 1.6180 - val_categorical_accuracy: 0.2266 - lr: 0.0010\n",
      "Epoch 2/15\n",
      "21/21 [==============================] - ETA: 0s - loss: 1.5683 - categorical_accuracy: 0.4003 \n",
      "Epoch 2: saving model to model_init_2022-09-1321_06_47.833538/model-00002-1.56828-0.40030-1.76219-0.24219.h5\n",
      "21/21 [==============================] - 477s 23s/step - loss: 1.5683 - categorical_accuracy: 0.4003 - val_loss: 1.7622 - val_categorical_accuracy: 0.2422 - lr: 0.0010\n",
      "Epoch 3/15\n",
      "21/21 [==============================] - ETA: 0s - loss: 1.3865 - categorical_accuracy: 0.4449 \n",
      "Epoch 3: saving model to model_init_2022-09-1321_06_47.833538/model-00003-1.38654-0.44494-2.07323-0.17188.h5\n",
      "21/21 [==============================] - 425s 20s/step - loss: 1.3865 - categorical_accuracy: 0.4449 - val_loss: 2.0732 - val_categorical_accuracy: 0.1719 - lr: 0.0010\n",
      "Epoch 4/15\n",
      "21/21 [==============================] - ETA: 0s - loss: 1.2310 - categorical_accuracy: 0.5149 \n",
      "Epoch 4: saving model to model_init_2022-09-1321_06_47.833538/model-00004-1.23099-0.51488-2.19133-0.17969.h5\n",
      "21/21 [==============================] - 462s 22s/step - loss: 1.2310 - categorical_accuracy: 0.5149 - val_loss: 2.1913 - val_categorical_accuracy: 0.1797 - lr: 0.0010\n",
      "Epoch 5/15\n",
      "21/21 [==============================] - ETA: 0s - loss: 1.1382 - categorical_accuracy: 0.5446 \n",
      "Epoch 5: saving model to model_init_2022-09-1321_06_47.833538/model-00005-1.13820-0.54464-2.40630-0.14844.h5\n",
      "\n",
      "Epoch 5: ReduceLROnPlateau reducing learning rate to 0.00020000000949949026.\n",
      "21/21 [==============================] - 436s 21s/step - loss: 1.1382 - categorical_accuracy: 0.5446 - val_loss: 2.4063 - val_categorical_accuracy: 0.1484 - lr: 0.0010\n",
      "Epoch 6/15\n",
      "21/21 [==============================] - ETA: 0s - loss: 1.0191 - categorical_accuracy: 0.6012 \n",
      "Epoch 6: saving model to model_init_2022-09-1321_06_47.833538/model-00006-1.01911-0.60119-2.57026-0.14062.h5\n",
      "21/21 [==============================] - 433s 21s/step - loss: 1.0191 - categorical_accuracy: 0.6012 - val_loss: 2.5703 - val_categorical_accuracy: 0.1406 - lr: 2.0000e-04\n",
      "Epoch 7/15\n",
      "21/21 [==============================] - ETA: 0s - loss: 0.9930 - categorical_accuracy: 0.6176 \n",
      "Epoch 7: saving model to model_init_2022-09-1321_06_47.833538/model-00007-0.99295-0.61756-2.60784-0.19531.h5\n",
      "21/21 [==============================] - 444s 21s/step - loss: 0.9930 - categorical_accuracy: 0.6176 - val_loss: 2.6078 - val_categorical_accuracy: 0.1953 - lr: 2.0000e-04\n",
      "Epoch 8/15\n",
      "21/21 [==============================] - ETA: 0s - loss: 0.9914 - categorical_accuracy: 0.6161 \n",
      "Epoch 8: saving model to model_init_2022-09-1321_06_47.833538/model-00008-0.99144-0.61607-2.75736-0.19531.h5\n",
      "21/21 [==============================] - 439s 21s/step - loss: 0.9914 - categorical_accuracy: 0.6161 - val_loss: 2.7574 - val_categorical_accuracy: 0.1953 - lr: 2.0000e-04\n",
      "Epoch 9/15\n",
      "21/21 [==============================] - ETA: 0s - loss: 0.9671 - categorical_accuracy: 0.6190 \n",
      "Epoch 9: saving model to model_init_2022-09-1321_06_47.833538/model-00009-0.96713-0.61905-2.88184-0.14844.h5\n",
      "\n",
      "Epoch 9: ReduceLROnPlateau reducing learning rate to 4.0000001899898055e-05.\n",
      "21/21 [==============================] - 441s 21s/step - loss: 0.9671 - categorical_accuracy: 0.6190 - val_loss: 2.8818 - val_categorical_accuracy: 0.1484 - lr: 2.0000e-04\n",
      "Epoch 10/15\n",
      "21/21 [==============================] - ETA: 0s - loss: 0.9024 - categorical_accuracy: 0.6295 \n",
      "Epoch 10: saving model to model_init_2022-09-1321_06_47.833538/model-00010-0.90237-0.62946-2.98118-0.10938.h5\n",
      "21/21 [==============================] - 447s 21s/step - loss: 0.9024 - categorical_accuracy: 0.6295 - val_loss: 2.9812 - val_categorical_accuracy: 0.1094 - lr: 4.0000e-05\n",
      "Epoch 11/15\n",
      "21/21 [==============================] - ETA: 0s - loss: 0.8844 - categorical_accuracy: 0.6488 \n",
      "Epoch 11: saving model to model_init_2022-09-1321_06_47.833538/model-00011-0.88444-0.64881-2.93708-0.17969.h5\n",
      "21/21 [==============================] - 441s 21s/step - loss: 0.8844 - categorical_accuracy: 0.6488 - val_loss: 2.9371 - val_categorical_accuracy: 0.1797 - lr: 4.0000e-05\n",
      "Epoch 12/15\n",
      "21/21 [==============================] - ETA: 0s - loss: 0.9111 - categorical_accuracy: 0.6458 \n",
      "Epoch 12: saving model to model_init_2022-09-1321_06_47.833538/model-00012-0.91114-0.64583-2.87506-0.14844.h5\n",
      "21/21 [==============================] - 442s 21s/step - loss: 0.9111 - categorical_accuracy: 0.6458 - val_loss: 2.8751 - val_categorical_accuracy: 0.1484 - lr: 4.0000e-05\n",
      "Epoch 13/15\n",
      "21/21 [==============================] - ETA: 0s - loss: 0.9401 - categorical_accuracy: 0.6339 \n",
      "Epoch 13: saving model to model_init_2022-09-1321_06_47.833538/model-00013-0.94009-0.63393-2.89898-0.17188.h5\n",
      "\n",
      "Epoch 13: ReduceLROnPlateau reducing learning rate to 8.000000525498762e-06.\n",
      "21/21 [==============================] - 438s 21s/step - loss: 0.9401 - categorical_accuracy: 0.6339 - val_loss: 2.8990 - val_categorical_accuracy: 0.1719 - lr: 4.0000e-05\n",
      "Epoch 14/15\n",
      "21/21 [==============================] - ETA: 0s - loss: 0.9469 - categorical_accuracy: 0.6265 \n",
      "Epoch 14: saving model to model_init_2022-09-1321_06_47.833538/model-00014-0.94694-0.62649-2.99073-0.15625.h5\n",
      "21/21 [==============================] - 425s 20s/step - loss: 0.9469 - categorical_accuracy: 0.6265 - val_loss: 2.9907 - val_categorical_accuracy: 0.1562 - lr: 8.0000e-06\n",
      "Epoch 15/15\n",
      "21/21 [==============================] - ETA: 0s - loss: 0.9088 - categorical_accuracy: 0.6458 \n",
      "Epoch 15: saving model to model_init_2022-09-1321_06_47.833538/model-00015-0.90878-0.64583-2.72459-0.19531.h5\n",
      "21/21 [==============================] - 418s 20s/step - loss: 0.9088 - categorical_accuracy: 0.6458 - val_loss: 2.7246 - val_categorical_accuracy: 0.1953 - lr: 8.0000e-06\n"
     ]
    },
    {
     "data": {
      "text/plain": [
       "<keras.callbacks.History at 0x7f9bf56b9250>"
      ]
     },
     "execution_count": 12,
     "metadata": {},
     "output_type": "execute_result"
    }
   ],
   "source": [
    "model.fit_generator(train_generator, \n",
    "                    steps_per_epoch=steps_per_epoch, \n",
    "                    epochs=num_epochs, \n",
    "                    verbose=1, \n",
    "                    callbacks=callbacks_list, \n",
    "                    validation_data=val_generator, \n",
    "                    validation_steps=validation_steps, \n",
    "                    class_weight=None, \n",
    "                    workers=1, \n",
    "                    initial_epoch=0)"
   ]
  },
  {
   "cell_type": "code",
   "execution_count": 13,
   "metadata": {},
   "outputs": [],
   "source": [
    "import pandas as pd"
   ]
  },
  {
   "cell_type": "code",
   "execution_count": 14,
   "metadata": {},
   "outputs": [
    {
     "data": {
      "text/plain": [
       "'sequential_1'"
      ]
     },
     "execution_count": 14,
     "metadata": {},
     "output_type": "execute_result"
    }
   ],
   "source": [
    "model.name"
   ]
  },
  {
   "cell_type": "code",
   "execution_count": 17,
   "metadata": {},
   "outputs": [
    {
     "data": {
      "text/plain": [
       "2454405"
      ]
     },
     "execution_count": 17,
     "metadata": {},
     "output_type": "execute_result"
    }
   ],
   "source": [
    "model.count_params()"
   ]
  },
  {
   "cell_type": "code",
   "execution_count": 18,
   "metadata": {
    "scrolled": true
   },
   "outputs": [
    {
     "data": {
      "image/png": "[encoded data removed]",
      "text/plain": [
       "<Figure size 576x360 with 1 Axes>"
      ]
     },
     "metadata": {
      "needs_background": "light"
     },
     "output_type": "display_data"
    }
   ],
   "source": [
    "pd.DataFrame(model.history.history).plot(figsize=(8,5))\n",
    "plt.grid('True')\n",
    "plt.show()"
   ]
  },
  {
   "cell_type": "markdown",
   "metadata": {},
   "source": [
    "# CNN + LSTM - Final Model"
   ]
  },
  {
   "cell_type": "markdown",
   "metadata": {},
   "source": [
    "## Generator"
   ]
  },
  {
   "cell_type": "code",
   "execution_count": 85,
   "metadata": {},
   "outputs": [],
   "source": [
    "def generator(source_path, folder_list, batch_size):\n",
    "    #print('source_path: ', source_path)\n",
    "    \n",
    "    img_idx = [2,4,6,8,10,12,14,16,18,20,22,24,26,28] #create a list of image numbers you want to use for a particular video\n",
    "\n",
    "    while True:\n",
    "        t = np.random.permutation(folder_list)\n",
    "        \n",
    "        num_batches = len(t)//batch_size # calculate the number of batches\n",
    "        for batch in range(num_batches): # we iterate over the number of batches\n",
    "            \n",
    "            batch_data = np.zeros((batch_size,14,100,100,3)) # x is the number of images you use for each video, (y,z) is the final size of the input images and 3 is the number of channels RGB\n",
    "            \n",
    "            batch_labels = np.zeros((batch_size,5)) # batch_labels is the one hot representation of the output\n",
    "           # print(\"batch labels: \", batch_labels)\n",
    "            for folder in range(batch_size): # iterate over the batch_size\n",
    "                \n",
    "                imgs = os.listdir(source_path+'/'+ t[folder + (batch*batch_size)].split(';')[0]) # read all the images in the folder\n",
    "                \n",
    "                for idx,item in enumerate(img_idx): #  Iterate iver the frames/images of a folder to read them in\n",
    "                    image = imread(source_path+'/'+ t[folder + (batch*batch_size)].strip().split(';')[0]+'/'+imgs[item]).astype(np.float32)\n",
    "                    \n",
    "                    #crop the images and resize them. Note that the images are of 2 different shape \n",
    "                    image = resize(image,(100,100)).astype(np.float32)\n",
    "                 \n",
    "                    \n",
    "                    #and the conv3D will throw error if the inputs in a batch have different shapes\n",
    "                    \n",
    "                    batch_data[folder,idx,:,:,0] = (image[:,:,0])/255 #normalise and feed in the image\n",
    "                    batch_data[folder,idx,:,:,1] = (image[:,:,1])/255 #normalise and feed in the image\n",
    "                    batch_data[folder,idx,:,:,2] = (image[:,:,2])/255 #normalise and feed in the image\n",
    "                    \n",
    "                batch_labels[folder, int(t[folder + (batch*batch_size)].strip().split(';')[2])] = 1\n",
    "            yield batch_data, batch_labels #you yield the batch_data and the batch_labels, remember what does yield do\n",
    "\n",
    "        \n",
    "        # write the code for the remaining data points which are left after full batches\n",
    "        \n",
    "        if len(t)% batch_size !=0:\n",
    "            batch_data = np.zeros((batch_size,14,100,100,3))\n",
    "            batch_labels = np.zeros((batch_size,5))\n",
    "            for folder in range(batch_size): # iterate over the batch_size\n",
    "                    \n",
    "                    imgs = os.listdir(source_path+'/'+ t[folder + (batch*batch_size)].split(';')[0]) # read all the images in the folder\n",
    "                    \n",
    "                    for idx,item in enumerate(img_idx): #  Iterate iver the frames/images of a folder to read them in\n",
    "                        image = imread(source_path+'/'+ t[folder + (batch*batch_size)].strip().split(';')[0]+'/'+imgs[item]).astype(np.float32)\n",
    "                        #crop the images and resize them. Note that the images are of 2 different shape \n",
    "                        image = resize(image,(100,100)).astype(np.float32)\n",
    "\n",
    "                        batch_data[folder,idx,:,:,0] = (image[:,:,0])/255 #normalise and feed in the image\n",
    "                        batch_data[folder,idx,:,:,1] = (image[:,:,1])/255 #normalise and feed in the image\n",
    "                        batch_data[folder,idx,:,:,2] = (image[:,:,2])/255 #normalise and feed in the image\n",
    "\n",
    "                    batch_labels[folder, int(t[folder + (batch*batch_size)].strip().split(';')[2])] = 1\n",
    "            yield batch_data, batch_labels #you yield the batch_data and the batch_labels, remember what does yield do\n",
    "\n"
   ]
  },
  {
   "cell_type": "code",
   "execution_count": 86,
   "metadata": {},
   "outputs": [],
   "source": [
    "#write your model here\n",
    "from keras.models import Sequential, Model\n",
    "from keras.layers import Conv2D,MaxPooling2D\n",
    "from keras.callbacks import ModelCheckpoint, ReduceLROnPlateau\n",
    "from keras.layers import Dense, GRU, Flatten, TimeDistributed, Flatten, BatchNormalization, Activation, Dropout, LSTM, Bidirectional"
   ]
  },
  {
   "cell_type": "code",
   "execution_count": 101,
   "metadata": {},
   "outputs": [],
   "source": [
    "#write your model here\n",
    "model = Sequential()\n",
    "model.add(Conv3D(32, (3, 3, 3), padding='same',\n",
    "         input_shape=(14,100,100,3)))\n",
    "model.add(Activation('relu'))\n",
    "model.add(BatchNormalization())\n",
    "model.add(MaxPooling3D(pool_size=(2, 2, 2)))\n",
    "\n",
    "model.add(Conv3D(64, (2, 2, 2), padding='same'))\n",
    "model.add(Activation('relu'))\n",
    "model.add(BatchNormalization())\n",
    "model.add(MaxPooling3D(pool_size=(2, 2, 2)))\n",
    "\n",
    "model.add(Conv3D(128, (2, 2, 2), padding='same'))\n",
    "model.add(Activation('relu'))\n",
    "model.add(BatchNormalization())\n",
    "model.add(MaxPooling3D(pool_size=(2, 2, 2)))\n",
    "\n",
    "model.add(TimeDistributed(Flatten()))\n",
    "model.add(LSTM(128))\n",
    "model.add(Dropout(0.5))\n",
    "\n",
    "model.add(Dense(64,activation='relu'))\n",
    "model.add(BatchNormalization())\n",
    "model.add(Dropout(0.25))\n",
    "\n",
    "model.add(Dense(5,activation='softmax'))"
   ]
  },
  {
   "cell_type": "code",
   "execution_count": 102,
   "metadata": {},
   "outputs": [
    {
     "name": "stdout",
     "output_type": "stream",
     "text": [
      "Model: \"sequential_16\"\n",
      "_________________________________________________________________\n",
      " Layer (type)                Output Shape              Param #   \n",
      "=================================================================\n",
      " conv3d_33 (Conv3D)          (None, 14, 100, 100, 32)  2624      \n",
      "                                                                 \n",
      " activation_33 (Activation)  (None, 14, 100, 100, 32)  0         \n",
      "                                                                 \n",
      " batch_normalization_64 (Bat  (None, 14, 100, 100, 32)  128      \n",
      " chNormalization)                                                \n",
      "                                                                 \n",
      " max_pooling3d_32 (MaxPoolin  (None, 7, 50, 50, 32)    0         \n",
      " g3D)                                                            \n",
      "                                                                 \n",
      " conv3d_34 (Conv3D)          (None, 7, 50, 50, 64)     16448     \n",
      "                                                                 \n",
      " activation_34 (Activation)  (None, 7, 50, 50, 64)     0         \n",
      "                                                                 \n",
      " batch_normalization_65 (Bat  (None, 7, 50, 50, 64)    256       \n",
      " chNormalization)                                                \n",
      "                                                                 \n",
      " max_pooling3d_33 (MaxPoolin  (None, 3, 25, 25, 64)    0         \n",
      " g3D)                                                            \n",
      "                                                                 \n",
      " conv3d_35 (Conv3D)          (None, 3, 25, 25, 128)    65664     \n",
      "                                                                 \n",
      " activation_35 (Activation)  (None, 3, 25, 25, 128)    0         \n",
      "                                                                 \n",
      " batch_normalization_66 (Bat  (None, 3, 25, 25, 128)   512       \n",
      " chNormalization)                                                \n",
      "                                                                 \n",
      " max_pooling3d_34 (MaxPoolin  (None, 1, 12, 12, 128)   0         \n",
      " g3D)                                                            \n",
      "                                                                 \n",
      " time_distributed_11 (TimeDi  (None, 1, 18432)         0         \n",
      " stributed)                                                      \n",
      "                                                                 \n",
      " lstm_1 (LSTM)               (None, 128)               9503232   \n",
      "                                                                 \n",
      " dropout_16 (Dropout)        (None, 128)               0         \n",
      "                                                                 \n",
      " dense_37 (Dense)            (None, 64)                8256      \n",
      "                                                                 \n",
      " batch_normalization_67 (Bat  (None, 64)               256       \n",
      " chNormalization)                                                \n",
      "                                                                 \n",
      " dropout_17 (Dropout)        (None, 64)                0         \n",
      "                                                                 \n",
      " dense_38 (Dense)            (None, 5)                 325       \n",
      "                                                                 \n",
      "=================================================================\n",
      "Total params: 9,597,701\n",
      "Trainable params: 9,597,125\n",
      "Non-trainable params: 576\n",
      "_________________________________________________________________\n",
      "None\n"
     ]
    }
   ],
   "source": [
    "optimizer = optimizers.SGD(lr=0.01) #write your optimizer\n",
    "model.compile(optimizer=optimizer, loss='categorical_crossentropy', metrics=['categorical_accuracy'])\n",
    "print (model.summary())"
   ]
  },
  {
   "cell_type": "code",
   "execution_count": 103,
   "metadata": {},
   "outputs": [],
   "source": [
    "train_generator = generator(train_path, train_doc, batch_size)\n",
    "val_generator = generator(val_path, val_doc, batch_size)"
   ]
  },
  {
   "cell_type": "code",
   "execution_count": 104,
   "metadata": {},
   "outputs": [
    {
     "name": "stdout",
     "output_type": "stream",
     "text": [
      "WARNING:tensorflow:`period` argument is deprecated. Please use `save_freq` to specify the frequency in number of batches seen.\n",
      "WARNING:tensorflow:`epsilon` argument is deprecated and will be removed, use `min_delta` instead.\n"
     ]
    }
   ],
   "source": [
    "model_name = 'time_distributed_model' + '_' + str(curr_dt_time).replace(' ','').replace(':','_') + '/'\n",
    "    \n",
    "if not os.path.exists(model_name):\n",
    "    os.mkdir(model_name)\n",
    "        \n",
    "filepath = model_name + 'model-{epoch:05d}-{loss:.5f}-{categorical_accuracy:.5f}-{val_loss:.5f}-{val_categorical_accuracy:.5f}.h5'\n",
    "\n",
    "checkpoint = ModelCheckpoint(filepath, monitor='val_loss', verbose=1, save_best_only=False, save_weights_only=False, mode='auto', period=1)\n",
    "\n",
    "LR = ReduceLROnPlateau(monitor = \"val_loss\", factor = 0.1, patience = 10,\n",
    "  verbose = 0, mode = \"auto\", epsilon = 1e-04, cooldown = 0,\n",
    "  min_lr = 0)\n",
    "callbacks_list = [checkpoint, LR]"
   ]
  },
  {
   "cell_type": "code",
   "execution_count": 105,
   "metadata": {},
   "outputs": [],
   "source": [
    "if (num_train_sequences%batch_size) == 0:\n",
    "    steps_per_epoch = int(num_train_sequences/batch_size)\n",
    "else:\n",
    "    steps_per_epoch = (num_train_sequences//batch_size) + 1\n",
    "\n",
    "if (num_val_sequences%batch_size) == 0:\n",
    "    validation_steps = int(num_val_sequences/batch_size)\n",
    "else:\n",
    "    validation_steps = (num_val_sequences//batch_size) + 1"
   ]
  },
  {
   "cell_type": "code",
   "execution_count": 106,
   "metadata": {
    "scrolled": false
   },
   "outputs": [
    {
     "name": "stderr",
     "output_type": "stream",
     "text": [
      "<ipython-input-106-d4ef7ee1576b>:1: UserWarning: `Model.fit_generator` is deprecated and will be removed in a future version. Please use `Model.fit`, which supports generators.\n",
      "  model.fit_generator(train_generator,\n"
     ]
    },
    {
     "name": "stdout",
     "output_type": "stream",
     "text": [
      "Epoch 1/25\n",
      "21/21 [==============================] - ETA: 0s - loss: 1.9462 - categorical_accuracy: 0.3006 \n",
      "Epoch 1: saving model to time_distributed_model_2022-09-1321_06_47.833538/model-00001-1.94617-0.30060-1.58034-0.17188.h5\n",
      "21/21 [==============================] - 379s 18s/step - loss: 1.9462 - categorical_accuracy: 0.3006 - val_loss: 1.5803 - val_categorical_accuracy: 0.1719 - lr: 0.0100\n",
      "Epoch 2/25\n",
      "21/21 [==============================] - ETA: 0s - loss: 1.7231 - categorical_accuracy: 0.3199 \n",
      "Epoch 2: saving model to time_distributed_model_2022-09-1321_06_47.833538/model-00002-1.72307-0.31994-1.65656-0.16406.h5\n",
      "21/21 [==============================] - 391s 19s/step - loss: 1.7231 - categorical_accuracy: 0.3199 - val_loss: 1.6566 - val_categorical_accuracy: 0.1641 - lr: 0.0100\n",
      "Epoch 3/25\n",
      "21/21 [==============================] - ETA: 0s - loss: 1.4865 - categorical_accuracy: 0.4062 \n",
      "Epoch 3: saving model to time_distributed_model_2022-09-1321_06_47.833538/model-00003-1.48649-0.40625-1.59282-0.17969.h5\n",
      "21/21 [==============================] - 397s 19s/step - loss: 1.4865 - categorical_accuracy: 0.4062 - val_loss: 1.5928 - val_categorical_accuracy: 0.1797 - lr: 0.0100\n",
      "Epoch 4/25\n",
      "21/21 [==============================] - ETA: 0s - loss: 1.3703 - categorical_accuracy: 0.4539 \n",
      "Epoch 4: saving model to time_distributed_model_2022-09-1321_06_47.833538/model-00004-1.37032-0.45387-1.56038-0.21094.h5\n",
      "21/21 [==============================] - 413s 20s/step - loss: 1.3703 - categorical_accuracy: 0.4539 - val_loss: 1.5604 - val_categorical_accuracy: 0.2109 - lr: 0.0100\n",
      "Epoch 5/25\n",
      "21/21 [==============================] - ETA: 0s - loss: 1.1436 - categorical_accuracy: 0.5327 \n",
      "Epoch 5: saving model to time_distributed_model_2022-09-1321_06_47.833538/model-00005-1.14359-0.53274-1.57366-0.31250.h5\n",
      "21/21 [==============================] - 431s 20s/step - loss: 1.1436 - categorical_accuracy: 0.5327 - val_loss: 1.5737 - val_categorical_accuracy: 0.3125 - lr: 0.0100\n",
      "Epoch 6/25\n",
      "21/21 [==============================] - ETA: 0s - loss: 1.1263 - categorical_accuracy: 0.5506 \n",
      "Epoch 6: saving model to time_distributed_model_2022-09-1321_06_47.833538/model-00006-1.12627-0.55060-1.67829-0.22656.h5\n",
      "21/21 [==============================] - 426s 20s/step - loss: 1.1263 - categorical_accuracy: 0.5506 - val_loss: 1.6783 - val_categorical_accuracy: 0.2266 - lr: 0.0100\n",
      "Epoch 7/25\n",
      "21/21 [==============================] - ETA: 0s - loss: 0.9482 - categorical_accuracy: 0.6265 \n",
      "Epoch 7: saving model to time_distributed_model_2022-09-1321_06_47.833538/model-00007-0.94824-0.62649-1.64691-0.25000.h5\n",
      "21/21 [==============================] - 397s 19s/step - loss: 0.9482 - categorical_accuracy: 0.6265 - val_loss: 1.6469 - val_categorical_accuracy: 0.2500 - lr: 0.0100\n",
      "Epoch 8/25\n",
      "21/21 [==============================] - ETA: 0s - loss: 0.9085 - categorical_accuracy: 0.6220 \n",
      "Epoch 8: saving model to time_distributed_model_2022-09-1321_06_47.833538/model-00008-0.90851-0.62202-1.49524-0.32031.h5\n",
      "21/21 [==============================] - 387s 18s/step - loss: 0.9085 - categorical_accuracy: 0.6220 - val_loss: 1.4952 - val_categorical_accuracy: 0.3203 - lr: 0.0100\n",
      "Epoch 9/25\n",
      "21/21 [==============================] - ETA: 0s - loss: 0.8650 - categorical_accuracy: 0.6637 \n",
      "Epoch 9: saving model to time_distributed_model_2022-09-1321_06_47.833538/model-00009-0.86495-0.66369-1.59079-0.23438.h5\n",
      "21/21 [==============================] - 385s 18s/step - loss: 0.8650 - categorical_accuracy: 0.6637 - val_loss: 1.5908 - val_categorical_accuracy: 0.2344 - lr: 0.0100\n",
      "Epoch 10/25\n",
      "21/21 [==============================] - ETA: 0s - loss: 0.7862 - categorical_accuracy: 0.6801 \n",
      "Epoch 10: saving model to time_distributed_model_2022-09-1321_06_47.833538/model-00010-0.78623-0.68006-1.52921-0.30469.h5\n",
      "21/21 [==============================] - 384s 18s/step - loss: 0.7862 - categorical_accuracy: 0.6801 - val_loss: 1.5292 - val_categorical_accuracy: 0.3047 - lr: 0.0100\n",
      "Epoch 11/25\n",
      "21/21 [==============================] - ETA: 0s - loss: 0.7195 - categorical_accuracy: 0.7098 \n",
      "Epoch 11: saving model to time_distributed_model_2022-09-1321_06_47.833538/model-00011-0.71953-0.70982-1.42929-0.40625.h5\n",
      "21/21 [==============================] - 382s 18s/step - loss: 0.7195 - categorical_accuracy: 0.7098 - val_loss: 1.4293 - val_categorical_accuracy: 0.4062 - lr: 0.0100\n",
      "Epoch 12/25\n",
      "21/21 [==============================] - ETA: 0s - loss: 0.6071 - categorical_accuracy: 0.7649 \n",
      "Epoch 12: saving model to time_distributed_model_2022-09-1321_06_47.833538/model-00012-0.60713-0.76488-1.43071-0.44531.h5\n",
      "21/21 [==============================] - 377s 18s/step - loss: 0.6071 - categorical_accuracy: 0.7649 - val_loss: 1.4307 - val_categorical_accuracy: 0.4453 - lr: 0.0100\n",
      "Epoch 13/25\n",
      "21/21 [==============================] - ETA: 0s - loss: 0.6010 - categorical_accuracy: 0.7589 \n",
      "Epoch 13: saving model to time_distributed_model_2022-09-1321_06_47.833538/model-00013-0.60100-0.75893-1.51141-0.39844.h5\n",
      "21/21 [==============================] - 376s 18s/step - loss: 0.6010 - categorical_accuracy: 0.7589 - val_loss: 1.5114 - val_categorical_accuracy: 0.3984 - lr: 0.0100\n",
      "Epoch 14/25\n",
      "21/21 [==============================] - ETA: 0s - loss: 0.5788 - categorical_accuracy: 0.7723 \n",
      "Epoch 14: saving model to time_distributed_model_2022-09-1321_06_47.833538/model-00014-0.57879-0.77232-1.40693-0.42969.h5\n",
      "21/21 [==============================] - 375s 18s/step - loss: 0.5788 - categorical_accuracy: 0.7723 - val_loss: 1.4069 - val_categorical_accuracy: 0.4297 - lr: 0.0100\n",
      "Epoch 15/25\n",
      "21/21 [==============================] - ETA: 0s - loss: 0.5505 - categorical_accuracy: 0.7932 \n",
      "Epoch 15: saving model to time_distributed_model_2022-09-1321_06_47.833538/model-00015-0.55053-0.79315-1.37711-0.46094.h5\n",
      "21/21 [==============================] - 376s 18s/step - loss: 0.5505 - categorical_accuracy: 0.7932 - val_loss: 1.3771 - val_categorical_accuracy: 0.4609 - lr: 0.0100\n",
      "Epoch 16/25\n",
      "21/21 [==============================] - ETA: 0s - loss: 0.5505 - categorical_accuracy: 0.7634 \n",
      "Epoch 16: saving model to time_distributed_model_2022-09-1321_06_47.833538/model-00016-0.55047-0.76339-1.33312-0.49219.h5\n",
      "21/21 [==============================] - 376s 18s/step - loss: 0.5505 - categorical_accuracy: 0.7634 - val_loss: 1.3331 - val_categorical_accuracy: 0.4922 - lr: 0.0100\n",
      "Epoch 17/25\n",
      "21/21 [==============================] - ETA: 0s - loss: 0.4464 - categorical_accuracy: 0.8423 \n",
      "Epoch 17: saving model to time_distributed_model_2022-09-1321_06_47.833538/model-00017-0.44637-0.84226-1.07991-0.60938.h5\n",
      "21/21 [==============================] - 375s 18s/step - loss: 0.4464 - categorical_accuracy: 0.8423 - val_loss: 1.0799 - val_categorical_accuracy: 0.6094 - lr: 0.0100\n",
      "Epoch 18/25\n",
      "21/21 [==============================] - ETA: 0s - loss: 0.4530 - categorical_accuracy: 0.8348 \n",
      "Epoch 18: saving model to time_distributed_model_2022-09-1321_06_47.833538/model-00018-0.45297-0.83482-1.14706-0.57812.h5\n",
      "21/21 [==============================] - 373s 18s/step - loss: 0.4530 - categorical_accuracy: 0.8348 - val_loss: 1.1471 - val_categorical_accuracy: 0.5781 - lr: 0.0100\n",
      "Epoch 19/25\n",
      "21/21 [==============================] - ETA: 0s - loss: 0.4008 - categorical_accuracy: 0.8676 \n",
      "Epoch 19: saving model to time_distributed_model_2022-09-1321_06_47.833538/model-00019-0.40085-0.86756-1.64245-0.46094.h5\n",
      "21/21 [==============================] - 376s 18s/step - loss: 0.4008 - categorical_accuracy: 0.8676 - val_loss: 1.6425 - val_categorical_accuracy: 0.4609 - lr: 0.0100\n",
      "Epoch 20/25\n",
      "21/21 [==============================] - ETA: 0s - loss: 0.3297 - categorical_accuracy: 0.8973 \n",
      "Epoch 20: saving model to time_distributed_model_2022-09-1321_06_47.833538/model-00020-0.32972-0.89732-1.47933-0.52344.h5\n",
      "21/21 [==============================] - 376s 18s/step - loss: 0.3297 - categorical_accuracy: 0.8973 - val_loss: 1.4793 - val_categorical_accuracy: 0.5234 - lr: 0.0100\n",
      "Epoch 21/25\n",
      "21/21 [==============================] - ETA: 0s - loss: 0.3113 - categorical_accuracy: 0.9107 \n",
      "Epoch 21: saving model to time_distributed_model_2022-09-1321_06_47.833538/model-00021-0.31134-0.91071-1.29366-0.52344.h5\n",
      "21/21 [==============================] - 375s 18s/step - loss: 0.3113 - categorical_accuracy: 0.9107 - val_loss: 1.2937 - val_categorical_accuracy: 0.5234 - lr: 0.0100\n"
     ]
    },
    {
     "name": "stdout",
     "output_type": "stream",
     "text": [
      "Epoch 22/25\n",
      "21/21 [==============================] - ETA: 0s - loss: 0.3036 - categorical_accuracy: 0.9003 \n",
      "Epoch 22: saving model to time_distributed_model_2022-09-1321_06_47.833538/model-00022-0.30361-0.90030-1.23084-0.57031.h5\n",
      "21/21 [==============================] - 374s 18s/step - loss: 0.3036 - categorical_accuracy: 0.9003 - val_loss: 1.2308 - val_categorical_accuracy: 0.5703 - lr: 0.0100\n",
      "Epoch 23/25\n",
      "21/21 [==============================] - ETA: 0s - loss: 0.2653 - categorical_accuracy: 0.9241 \n",
      "Epoch 23: saving model to time_distributed_model_2022-09-1321_06_47.833538/model-00023-0.26526-0.92411-1.06010-0.63281.h5\n",
      "21/21 [==============================] - 375s 18s/step - loss: 0.2653 - categorical_accuracy: 0.9241 - val_loss: 1.0601 - val_categorical_accuracy: 0.6328 - lr: 0.0100\n",
      "Epoch 24/25\n",
      "21/21 [==============================] - ETA: 0s - loss: 0.2541 - categorical_accuracy: 0.9301 \n",
      "Epoch 24: saving model to time_distributed_model_2022-09-1321_06_47.833538/model-00024-0.25413-0.93006-0.95947-0.59375.h5\n",
      "21/21 [==============================] - 375s 18s/step - loss: 0.2541 - categorical_accuracy: 0.9301 - val_loss: 0.9595 - val_categorical_accuracy: 0.5938 - lr: 0.0100\n",
      "Epoch 25/25\n",
      "21/21 [==============================] - ETA: 0s - loss: 0.2153 - categorical_accuracy: 0.9435 \n",
      "Epoch 25: saving model to time_distributed_model_2022-09-1321_06_47.833538/model-00025-0.21527-0.94345-0.85642-0.68750.h5\n",
      "21/21 [==============================] - 378s 18s/step - loss: 0.2153 - categorical_accuracy: 0.9435 - val_loss: 0.8564 - val_categorical_accuracy: 0.6875 - lr: 0.0100\n"
     ]
    },
    {
     "data": {
      "text/plain": [
       "<keras.callbacks.History at 0x7f9abf62adf0>"
      ]
     },
     "execution_count": 106,
     "metadata": {},
     "output_type": "execute_result"
    }
   ],
   "source": [
    "model.fit_generator(train_generator, \n",
    "                    steps_per_epoch=steps_per_epoch, \n",
    "                    epochs=num_epochs, \n",
    "                    verbose=1, \n",
    "                    callbacks=callbacks_list, \n",
    "                    validation_data=val_generator, \n",
    "                    validation_steps=validation_steps, \n",
    "                    class_weight=None, \n",
    "                    workers=1, \n",
    "                    initial_epoch=0)"
   ]
  },
  {
   "cell_type": "code",
   "execution_count": 107,
   "metadata": {},
   "outputs": [
    {
     "data": {
      "text/plain": [
       "'sequential_16'"
      ]
     },
     "execution_count": 107,
     "metadata": {},
     "output_type": "execute_result"
    }
   ],
   "source": [
    "model.name"
   ]
  },
  {
   "cell_type": "code",
   "execution_count": 108,
   "metadata": {},
   "outputs": [
    {
     "data": {
      "text/plain": [
       "9597701"
      ]
     },
     "execution_count": 108,
     "metadata": {},
     "output_type": "execute_result"
    }
   ],
   "source": [
    "model.count_params()"
   ]
  },
  {
   "cell_type": "code",
   "execution_count": 109,
   "metadata": {},
   "outputs": [
    {
     "data": {
      "image/png": "[encoded data removed]",
      "text/plain": [
       "<Figure size 576x360 with 1 Axes>"
      ]
     },
     "metadata": {
      "needs_background": "light"
     },
     "output_type": "display_data"
    }
   ],
   "source": [
    "pd.DataFrame(model.history.history).plot(figsize=(8,5))\n",
    "plt.grid('True')\n",
    "plt.show()"
   ]
  },
  {
   "cell_type": "code",
   "execution_count": null,
   "metadata": {},
   "outputs": [],
   "source": []
  }
 ],
 "metadata": {
  "kernelspec": {
   "display_name": "Python 3",
   "language": "python",
   "name": "python3"
  },
  "language_info": {
   "codemirror_mode": {
    "name": "ipython",
    "version": 3
   },
   "file_extension": ".py",
   "mimetype": "text/x-python",
   "name": "python",
   "nbconvert_exporter": "python",
   "pygments_lexer": "ipython3",
   "version": "3.8.5"
  }
 },
 "nbformat": 4,
 "nbformat_minor": 4
}
